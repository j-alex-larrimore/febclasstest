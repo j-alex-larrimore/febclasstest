{
  "nbformat": 4,
  "nbformat_minor": 0,
  "metadata": {
    "colab": {
      "name": "California Real Estate (Not Done).ipynb",
      "provenance": [],
      "collapsed_sections": [],
      "mount_file_id": "1_hW_A5rA6xNS5mS6eQyf6XbqEnpE7MW8",
      "authorship_tag": "ABX9TyOh6bdd2KtD//CvQVXdStz9",
      "include_colab_link": true
    },
    "kernelspec": {
      "name": "python3",
      "display_name": "Python 3"
    },
    "language_info": {
      "name": "python"
    }
  },
  "cells": [
    {
      "cell_type": "markdown",
      "metadata": {
        "id": "view-in-github",
        "colab_type": "text"
      },
      "source": [
        "<a href=\"https://colab.research.google.com/github/j-alex-larrimore/febclasstest/blob/main/California_Real_Estate_(Not_Done).ipynb\" target=\"_parent\"><img src=\"https://colab.research.google.com/assets/colab-badge.svg\" alt=\"Open In Colab\"/></a>"
      ]
    },
    {
      "cell_type": "markdown",
      "metadata": {
        "id": "IYHLi3Xj-WZE"
      },
      "source": [
        "Just like in the last notebook we need to start with the following steps:\n",
        "\n",
        "1) Download this dataset which is available at https://www.kaggle.com/camnugent/california-housing-prices\n",
        "\n",
        "Upload to your Google Drive.\n",
        "\n",
        "Click on the folder icon on the left, then click on the Mount Drive button."
      ]
    },
    {
      "cell_type": "code",
      "metadata": {
        "id": "oAn0wVHmCKRa"
      },
      "source": [
        "import torch\n",
        "import torch.nn as nn\n",
        "import torch.nn.functional as F\n",
        "\n",
        "import numpy as np\n",
        "import pandas as pd\n",
        "import matplotlib.pyplot as plt"
      ],
      "execution_count": null,
      "outputs": []
    },
    {
      "cell_type": "code",
      "metadata": {
        "colab": {
          "base_uri": "https://localhost:8080/",
          "height": 206
        },
        "id": "WoG1KMvs91yT",
        "outputId": "0335539a-ddda-435a-d005-6d7f57c75e47"
      },
      "source": [
        "df = pd.read_csv('drive/MyDrive/ColabDataFolders/Tabular/singapore-flat-prices.csv')\n",
        "df.head()"
      ],
      "execution_count": null,
      "outputs": [
        {
          "output_type": "execute_result",
          "data": {
            "text/html": [
              "<div>\n",
              "<style scoped>\n",
              "    .dataframe tbody tr th:only-of-type {\n",
              "        vertical-align: middle;\n",
              "    }\n",
              "\n",
              "    .dataframe tbody tr th {\n",
              "        vertical-align: top;\n",
              "    }\n",
              "\n",
              "    .dataframe thead th {\n",
              "        text-align: right;\n",
              "    }\n",
              "</style>\n",
              "<table border=\"1\" class=\"dataframe\">\n",
              "  <thead>\n",
              "    <tr style=\"text-align: right;\">\n",
              "      <th></th>\n",
              "      <th>month</th>\n",
              "      <th>town</th>\n",
              "      <th>flat_type</th>\n",
              "      <th>block</th>\n",
              "      <th>street_name</th>\n",
              "      <th>storey_range</th>\n",
              "      <th>floor_area_sqm</th>\n",
              "      <th>flat_model</th>\n",
              "      <th>lease_commence_date</th>\n",
              "      <th>resale_price</th>\n",
              "    </tr>\n",
              "  </thead>\n",
              "  <tbody>\n",
              "    <tr>\n",
              "      <th>0</th>\n",
              "      <td>1990-01</td>\n",
              "      <td>ANG MO KIO</td>\n",
              "      <td>1 ROOM</td>\n",
              "      <td>309</td>\n",
              "      <td>ANG MO KIO AVE 1</td>\n",
              "      <td>10 TO 12</td>\n",
              "      <td>31.0</td>\n",
              "      <td>IMPROVED</td>\n",
              "      <td>1977</td>\n",
              "      <td>9000</td>\n",
              "    </tr>\n",
              "    <tr>\n",
              "      <th>1</th>\n",
              "      <td>1990-01</td>\n",
              "      <td>ANG MO KIO</td>\n",
              "      <td>1 ROOM</td>\n",
              "      <td>309</td>\n",
              "      <td>ANG MO KIO AVE 1</td>\n",
              "      <td>04 TO 06</td>\n",
              "      <td>31.0</td>\n",
              "      <td>IMPROVED</td>\n",
              "      <td>1977</td>\n",
              "      <td>6000</td>\n",
              "    </tr>\n",
              "    <tr>\n",
              "      <th>2</th>\n",
              "      <td>1990-01</td>\n",
              "      <td>ANG MO KIO</td>\n",
              "      <td>1 ROOM</td>\n",
              "      <td>309</td>\n",
              "      <td>ANG MO KIO AVE 1</td>\n",
              "      <td>10 TO 12</td>\n",
              "      <td>31.0</td>\n",
              "      <td>IMPROVED</td>\n",
              "      <td>1977</td>\n",
              "      <td>8000</td>\n",
              "    </tr>\n",
              "    <tr>\n",
              "      <th>3</th>\n",
              "      <td>1990-01</td>\n",
              "      <td>ANG MO KIO</td>\n",
              "      <td>1 ROOM</td>\n",
              "      <td>309</td>\n",
              "      <td>ANG MO KIO AVE 1</td>\n",
              "      <td>07 TO 09</td>\n",
              "      <td>31.0</td>\n",
              "      <td>IMPROVED</td>\n",
              "      <td>1977</td>\n",
              "      <td>6000</td>\n",
              "    </tr>\n",
              "    <tr>\n",
              "      <th>4</th>\n",
              "      <td>1990-01</td>\n",
              "      <td>ANG MO KIO</td>\n",
              "      <td>3 ROOM</td>\n",
              "      <td>216</td>\n",
              "      <td>ANG MO KIO AVE 1</td>\n",
              "      <td>04 TO 06</td>\n",
              "      <td>73.0</td>\n",
              "      <td>NEW GENERATION</td>\n",
              "      <td>1976</td>\n",
              "      <td>47200</td>\n",
              "    </tr>\n",
              "  </tbody>\n",
              "</table>\n",
              "</div>"
            ],
            "text/plain": [
              "     month        town  ... lease_commence_date resale_price\n",
              "0  1990-01  ANG MO KIO  ...                1977         9000\n",
              "1  1990-01  ANG MO KIO  ...                1977         6000\n",
              "2  1990-01  ANG MO KIO  ...                1977         8000\n",
              "3  1990-01  ANG MO KIO  ...                1977         6000\n",
              "4  1990-01  ANG MO KIO  ...                1976        47200\n",
              "\n",
              "[5 rows x 10 columns]"
            ]
          },
          "metadata": {},
          "execution_count": 2
        }
      ]
    },
    {
      "cell_type": "code",
      "metadata": {
        "colab": {
          "base_uri": "https://localhost:8080/"
        },
        "id": "q1dtNTcrFiip",
        "outputId": "65c7e6ba-9998-4bdc-d352-d079e1dd7815"
      },
      "source": [
        "df.count"
      ],
      "execution_count": null,
      "outputs": [
        {
          "output_type": "execute_result",
          "data": {
            "text/plain": [
              "<bound method DataFrame.count of           month        town  ... lease_commence_date resale_price\n",
              "0       1990-01  ANG MO KIO  ...                1977         9000\n",
              "1       1990-01  ANG MO KIO  ...                1977         6000\n",
              "2       1990-01  ANG MO KIO  ...                1977         8000\n",
              "3       1990-01  ANG MO KIO  ...                1977         6000\n",
              "4       1990-01  ANG MO KIO  ...                1976        47200\n",
              "...         ...         ...  ...                 ...          ...\n",
              "287191  1999-12      YISHUN  ...                1987       456000\n",
              "287192  1999-12      YISHUN  ...                1988       408000\n",
              "287193  1999-12      YISHUN  ...                1988       469000\n",
              "287194  1999-12      YISHUN  ...                1988       440000\n",
              "287195  1999-12      YISHUN  ...                1988       484000\n",
              "\n",
              "[287196 rows x 10 columns]>"
            ]
          },
          "metadata": {},
          "execution_count": 3
        }
      ]
    },
    {
      "cell_type": "code",
      "metadata": {
        "colab": {
          "base_uri": "https://localhost:8080/"
        },
        "id": "q5ZigD0Aj2tR",
        "outputId": "dddf3856-dd82-4fd1-d2a9-34b01e8131df"
      },
      "source": [
        "df.columns"
      ],
      "execution_count": null,
      "outputs": [
        {
          "output_type": "execute_result",
          "data": {
            "text/plain": [
              "Index(['month', 'town', 'flat_type', 'block', 'street_name', 'storey_range',\n",
              "       'floor_area_sqm', 'flat_model', 'lease_commence_date', 'resale_price'],\n",
              "      dtype='object')"
            ]
          },
          "metadata": {},
          "execution_count": 4
        }
      ]
    },
    {
      "cell_type": "code",
      "metadata": {
        "id": "Lbq7Bpm2vgP8"
      },
      "source": [
        "cat_cols = ['town', 'flat_type', 'block', 'flat_model', 'street_name', 'month']\n",
        "cont_cols = ['floor_area_sqm', 'lease_commence_date']\n",
        "label_col = ['resale_price']"
      ],
      "execution_count": null,
      "outputs": []
    },
    {
      "cell_type": "code",
      "metadata": {
        "id": "VvRbjptS8-bF"
      },
      "source": [
        "df.drop(['storey_range'], axis=1, inplace=True)"
      ],
      "execution_count": null,
      "outputs": []
    },
    {
      "cell_type": "code",
      "metadata": {
        "id": "5D0qm2ZP2fGJ"
      },
      "source": [
        "for cat in cat_cols:\n",
        "    df[cat] = df[cat].astype('category')"
      ],
      "execution_count": null,
      "outputs": []
    },
    {
      "cell_type": "code",
      "metadata": {
        "colab": {
          "base_uri": "https://localhost:8080/"
        },
        "id": "khZNJX349hfX",
        "outputId": "85451222-f036-4006-e551-b58578cbac39"
      },
      "source": [
        "df.dtypes"
      ],
      "execution_count": null,
      "outputs": [
        {
          "output_type": "execute_result",
          "data": {
            "text/plain": [
              "month                  category\n",
              "town                   category\n",
              "flat_type              category\n",
              "block                  category\n",
              "street_name            category\n",
              "floor_area_sqm          float64\n",
              "flat_model             category\n",
              "lease_commence_date       int64\n",
              "resale_price              int64\n",
              "dtype: object"
            ]
          },
          "metadata": {},
          "execution_count": 8
        }
      ]
    },
    {
      "cell_type": "code",
      "metadata": {
        "colab": {
          "base_uri": "https://localhost:8080/"
        },
        "id": "Nd73P75f3pla",
        "outputId": "615e4a69-1ef1-448e-bbde-1b9594a372c2"
      },
      "source": [
        "df['town'].cat.categories"
      ],
      "execution_count": null,
      "outputs": [
        {
          "output_type": "execute_result",
          "data": {
            "text/plain": [
              "Index(['ANG MO KIO', 'BEDOK', 'BISHAN', 'BUKIT BATOK', 'BUKIT MERAH',\n",
              "       'BUKIT PANJANG', 'BUKIT TIMAH', 'CENTRAL AREA', 'CHOA CHU KANG',\n",
              "       'CLEMENTI', 'GEYLANG', 'HOUGANG', 'JURONG EAST', 'JURONG WEST',\n",
              "       'KALLANG/WHAMPOA', 'LIM CHU KANG', 'MARINE PARADE', 'PASIR RIS',\n",
              "       'QUEENSTOWN', 'SEMBAWANG', 'SENGKANG', 'SERANGOON', 'TAMPINES',\n",
              "       'TOA PAYOH', 'WOODLANDS', 'YISHUN'],\n",
              "      dtype='object')"
            ]
          },
          "metadata": {},
          "execution_count": 9
        }
      ]
    },
    {
      "cell_type": "code",
      "metadata": {
        "colab": {
          "base_uri": "https://localhost:8080/"
        },
        "id": "0AudjWdt4Ec4",
        "outputId": "113f8bd5-b5fa-4703-f9e5-2376e3be51ea"
      },
      "source": [
        "df['town'].head().cat.codes"
      ],
      "execution_count": null,
      "outputs": [
        {
          "output_type": "execute_result",
          "data": {
            "text/plain": [
              "0    0\n",
              "1    0\n",
              "2    0\n",
              "3    0\n",
              "4    0\n",
              "dtype: int8"
            ]
          },
          "metadata": {},
          "execution_count": 10
        }
      ]
    },
    {
      "cell_type": "code",
      "metadata": {
        "colab": {
          "base_uri": "https://localhost:8080/"
        },
        "id": "wbWuq7rYBPNd",
        "outputId": "2fa05682-4d39-4c38-843a-a4d9b4f9abe4"
      },
      "source": [
        "cont_cols"
      ],
      "execution_count": null,
      "outputs": [
        {
          "output_type": "execute_result",
          "data": {
            "text/plain": [
              "['floor_area_sqm', 'lease_commence_date']"
            ]
          },
          "metadata": {},
          "execution_count": 11
        }
      ]
    },
    {
      "cell_type": "code",
      "metadata": {
        "colab": {
          "base_uri": "https://localhost:8080/"
        },
        "id": "benwhLcaBSCG",
        "outputId": "c421815d-3ff7-4232-9113-df62977877f4"
      },
      "source": [
        "df['floor_area_sqm']"
      ],
      "execution_count": null,
      "outputs": [
        {
          "output_type": "execute_result",
          "data": {
            "text/plain": [
              "0          31.0\n",
              "1          31.0\n",
              "2          31.0\n",
              "3          31.0\n",
              "4          73.0\n",
              "          ...  \n",
              "287191    142.0\n",
              "287192    142.0\n",
              "287193    146.0\n",
              "287194    146.0\n",
              "287195    145.0\n",
              "Name: floor_area_sqm, Length: 287196, dtype: float64"
            ]
          },
          "metadata": {},
          "execution_count": 12
        }
      ]
    },
    {
      "cell_type": "code",
      "metadata": {
        "id": "eWet5It4_uNg"
      },
      "source": [
        "for cont in cont_cols:\n",
        "    df[cont] = pd.to_numeric(df[cont], errors='coerce')"
      ],
      "execution_count": null,
      "outputs": []
    },
    {
      "cell_type": "code",
      "metadata": {
        "colab": {
          "base_uri": "https://localhost:8080/"
        },
        "id": "Mmmn0nlbOOfG",
        "outputId": "304548ac-34c7-40d8-995a-0a345e18b00c"
      },
      "source": [
        "df.dropna(inplace=True)\n",
        "df.count"
      ],
      "execution_count": null,
      "outputs": [
        {
          "output_type": "execute_result",
          "data": {
            "text/plain": [
              "<bound method DataFrame.count of           month        town  ... lease_commence_date resale_price\n",
              "0       1990-01  ANG MO KIO  ...                1977         9000\n",
              "1       1990-01  ANG MO KIO  ...                1977         6000\n",
              "2       1990-01  ANG MO KIO  ...                1977         8000\n",
              "3       1990-01  ANG MO KIO  ...                1977         6000\n",
              "4       1990-01  ANG MO KIO  ...                1976        47200\n",
              "...         ...         ...  ...                 ...          ...\n",
              "287191  1999-12      YISHUN  ...                1987       456000\n",
              "287192  1999-12      YISHUN  ...                1988       408000\n",
              "287193  1999-12      YISHUN  ...                1988       469000\n",
              "287194  1999-12      YISHUN  ...                1988       440000\n",
              "287195  1999-12      YISHUN  ...                1988       484000\n",
              "\n",
              "[287196 rows x 9 columns]>"
            ]
          },
          "metadata": {},
          "execution_count": 13
        }
      ]
    },
    {
      "cell_type": "code",
      "metadata": {
        "id": "mOi9caY2h6H8"
      },
      "source": [
        "df = df.sample(frac=1).reset_index(drop=True)"
      ],
      "execution_count": null,
      "outputs": []
    },
    {
      "cell_type": "code",
      "metadata": {
        "colab": {
          "base_uri": "https://localhost:8080/"
        },
        "id": "zCUJvwiz7gai",
        "outputId": "14e92137-55e9-4e41-cdd1-ce6ceaa5bac6"
      },
      "source": [
        "cats = np.stack([df[col].cat.codes.values for col in cat_cols], 1)\n",
        "cats = torch.tensor(cats, dtype=torch.int64)\n",
        "cats[:5]"
      ],
      "execution_count": null,
      "outputs": [
        {
          "output_type": "execute_result",
          "data": {
            "text/plain": [
              "tensor([[  3,   2, 185,   8,  50, 101],\n",
              "        [  9,   2, 264,   8, 103,  90],\n",
              "        [  8,   3, 385,   5,  87, 109],\n",
              "        [  3,   2,  96,   8,  63,  33],\n",
              "        [ 12,   2, 259,   2, 351, 101]])"
            ]
          },
          "metadata": {},
          "execution_count": 16
        }
      ]
    },
    {
      "cell_type": "code",
      "metadata": {
        "colab": {
          "base_uri": "https://localhost:8080/"
        },
        "id": "xiINwRkz8DKH",
        "outputId": "6f4c3cfb-b18a-44b8-ad48-170542f65cb5"
      },
      "source": [
        "conts = np.stack([df[col].values for col in cont_cols], 1)\n",
        "conts = torch.tensor(conts, dtype=torch.float)\n",
        "conts[:5]"
      ],
      "execution_count": null,
      "outputs": [
        {
          "output_type": "execute_result",
          "data": {
            "text/plain": [
              "tensor([[  67., 1985.],\n",
              "        [  67., 1979.],\n",
              "        [ 123., 1992.],\n",
              "        [  82., 1985.],\n",
              "        [  74., 1977.]])"
            ]
          },
          "metadata": {},
          "execution_count": 17
        }
      ]
    },
    {
      "cell_type": "code",
      "metadata": {
        "id": "VlBsrIzPEjfP"
      },
      "source": [
        "labels = torch.tensor(df[label_col].values, dtype=torch.float).view(-1, 1)"
      ],
      "execution_count": null,
      "outputs": []
    },
    {
      "cell_type": "code",
      "metadata": {
        "colab": {
          "base_uri": "https://localhost:8080/"
        },
        "id": "liteoPdFXkQ5",
        "outputId": "789df27f-05ed-46e6-f5b9-3c6dd58dbb92"
      },
      "source": [
        "labels.shape, labels.dtype"
      ],
      "execution_count": null,
      "outputs": [
        {
          "output_type": "execute_result",
          "data": {
            "text/plain": [
              "(torch.Size([287196, 1]), torch.float32)"
            ]
          },
          "metadata": {},
          "execution_count": 19
        }
      ]
    },
    {
      "cell_type": "code",
      "metadata": {
        "id": "AcLuRgLxEe2B"
      },
      "source": [
        "class BasicModel(nn.Module):\n",
        "    def __init__(self, in_features=8, h1=20, h2=40, out_features=1):\n",
        "        super().__init__()\n",
        "        self.fc1 = nn.Linear(in_features,h1)    # input layer\n",
        "        self.fc2 = nn.Linear(h1, h2)            # hidden layer\n",
        "        self.out = nn.Linear(h2, out_features)  # output layer\n",
        "        \n",
        "    def forward(self, x):\n",
        "        x = F.relu(self.fc1(x))\n",
        "        x = F.relu(self.fc2(x))\n",
        "        x = self.out(x)\n",
        "        return x"
      ],
      "execution_count": null,
      "outputs": []
    },
    {
      "cell_type": "code",
      "metadata": {
        "id": "WTPXLVruFDAw"
      },
      "source": [
        "model = BasicModel()\n",
        "torch.manual_seed(43)\n",
        "criterion = nn.MSELoss()\n",
        "optimizer = torch.optim.Adam(model.parameters(), lr=0.1)"
      ],
      "execution_count": null,
      "outputs": []
    },
    {
      "cell_type": "code",
      "metadata": {
        "id": "l_CG5UytHbbs"
      },
      "source": [
        "batch_size = 287196\n",
        "test_size = int(batch_size * .2)\n",
        "\n",
        "cat_train = cats[:batch_size-test_size]\n",
        "cat_test = cats[batch_size-test_size:batch_size]\n",
        "con_train = conts[:batch_size-test_size]\n",
        "con_test = conts[batch_size-test_size:batch_size]\n",
        "y_train = labels[:batch_size-test_size]\n",
        "y_test = labels[batch_size-test_size:batch_size]\n",
        "\n",
        "x_train = torch.cat((cat_train, con_train), 1)\n",
        "x_test = torch.cat((cat_test, con_test), 1)"
      ],
      "execution_count": null,
      "outputs": []
    },
    {
      "cell_type": "code",
      "metadata": {
        "colab": {
          "base_uri": "https://localhost:8080/"
        },
        "id": "bpHx8f7dH6bQ",
        "outputId": "dce281d2-f0d7-4c1f-dd56-17e9e0a85877"
      },
      "source": [
        "epochs = 1500\n",
        "losses = []\n",
        "\n",
        "for i in range(epochs):\n",
        "    i+=1\n",
        "    y_pred = model.forward(x_train)\n",
        "    loss = torch.sqrt(criterion(y_pred, y_train))\n",
        "    losses.append(loss)\n",
        "    \n",
        "    # a neat trick to save screen space:\n",
        "    if i%100 == 1:\n",
        "        print(f'epoch: {i:2}  loss: {loss.item():10.8f}')\n",
        "\n",
        "    optimizer.zero_grad()\n",
        "    loss.backward()\n",
        "    optimizer.step()\n"
      ],
      "execution_count": null,
      "outputs": [
        {
          "output_type": "stream",
          "name": "stdout",
          "text": [
            "epoch:  1  loss: 254161.90625000\n",
            "epoch: 101  loss: 61732.66406250\n",
            "epoch: 201  loss: 57793.18750000\n",
            "epoch: 301  loss: 57834.05468750\n",
            "epoch: 401  loss: 57601.41015625\n",
            "epoch: 501  loss: 57507.34375000\n",
            "epoch: 601  loss: 57346.40234375\n",
            "epoch: 701  loss: 57272.17578125\n",
            "epoch: 801  loss: 57114.17187500\n",
            "epoch: 901  loss: 56871.04296875\n",
            "epoch: 1001  loss: 39939.62890625\n",
            "epoch: 1101  loss: 36630.97656250\n",
            "epoch: 1201  loss: 36345.01562500\n",
            "epoch: 1301  loss: 36240.55859375\n",
            "epoch: 1401  loss: 36410.41796875\n"
          ]
        }
      ]
    },
    {
      "cell_type": "code",
      "metadata": {
        "id": "BwiNn0YhJGed",
        "colab": {
          "base_uri": "https://localhost:8080/",
          "height": 279
        },
        "outputId": "68dd46dd-39d3-4169-a3a8-2cf2ac710ce4"
      },
      "source": [
        "plt.plot(range(epochs), losses)\n",
        "plt.ylabel('RMSE Loss')\n",
        "plt.xlabel('epoch');"
      ],
      "execution_count": null,
      "outputs": [
        {
          "output_type": "display_data",
          "data": {
            "image/png": "[encoded data removed]",
            "text/plain": [
              "<Figure size 432x288 with 1 Axes>"
            ]
          },
          "metadata": {
            "needs_background": "light"
          }
        }
      ]
    },
    {
      "cell_type": "code",
      "metadata": {
        "id": "tNGRcsFfJGee",
        "colab": {
          "base_uri": "https://localhost:8080/"
        },
        "outputId": "7bab310f-0122-4aa0-b69a-f9e72ae1b4f6"
      },
      "source": [
        "# TO EVALUATE THE ENTIRE TEST SET\n",
        "with torch.no_grad():\n",
        "    y_val = model(x_test)\n",
        "    loss = torch.sqrt(criterion(y_val, y_test))\n",
        "print(f'RMSE: {loss:.8f}')"
      ],
      "execution_count": null,
      "outputs": [
        {
          "output_type": "stream",
          "name": "stdout",
          "text": [
            "RMSE: 36408.42187500\n"
          ]
        }
      ]
    },
    {
      "cell_type": "code",
      "metadata": {
        "id": "XhFunwK9JGee",
        "colab": {
          "base_uri": "https://localhost:8080/"
        },
        "outputId": "1be4dc43-23af-4183-e3cb-740c85033d77"
      },
      "source": [
        "print(f'{\"PREDICTED\":>12} {\"ACTUAL\":>8} {\"DIFF\":>8}')\n",
        "for i in range(50):\n",
        "    diff = np.abs(y_val[i].item()-y_test[i].item())\n",
        "    print(f'{i+1:2}. {y_val[i].item():8.4f} {y_test[i].item():8.4f} {diff:8.4f}')"
      ],
      "execution_count": null,
      "outputs": [
        {
          "output_type": "stream",
          "name": "stdout",
          "text": [
            "   PREDICTED   ACTUAL     DIFF\n",
            " 1. 108385.2422 122000.0000 13614.7578\n",
            " 2. 402230.0000 354000.0000 48230.0000\n",
            " 3. 403478.0000 329000.0000 74478.0000\n",
            " 4. 153048.8750 142000.0000 11048.8750\n",
            " 5. 360904.5000 405000.0000 44095.5000\n",
            " 6. 382181.9375 335000.0000 47181.9375\n",
            " 7. 313505.0625 405000.0000 91494.9375\n",
            " 8. 114366.7891 152000.0000 37633.2109\n",
            " 9. 126568.2969 140000.0000 13431.7031\n",
            "10. 181379.5312 202000.0000 20620.4688\n",
            "11. 419092.0625 460000.0000 40907.9375\n",
            "12. 151018.3438 145000.0000 6018.3438\n",
            "13. 156321.1562 131500.0000 24821.1562\n",
            "14. 321616.5000 315000.0000 6616.5000\n",
            "15. 361903.0625 330000.0000 31903.0625\n",
            "16. 204409.0938 166000.0000 38409.0938\n",
            "17. 266213.7500 253000.0000 13213.7500\n",
            "18. 358194.7812 370000.0000 11805.2188\n",
            "19. 247517.3750 208000.0000 39517.3750\n",
            "20. 386877.6562 363000.0000 23877.6562\n",
            "21. 241576.1875 280000.0000 38423.8125\n",
            "22. 96920.9844 116000.0000 19079.0156\n",
            "23. 163435.6719 162500.0000 935.6719\n",
            "24. 354918.6250 400000.0000 45081.3750\n",
            "25. 93400.9297 80000.0000 13400.9297\n",
            "26. 150303.9688 225000.0000 74696.0312\n",
            "27. 262743.3125 250000.0000 12743.3125\n",
            "28. 116235.4062 130000.0000 13764.5938\n",
            "29. 184633.1250 210000.0000 25366.8750\n",
            "30. 142039.3281 126000.0000 16039.3281\n",
            "31. 422243.9688 410000.0000 12243.9688\n",
            "32. 45685.5938 60000.0000 14314.4062\n",
            "33. 133464.8594 140000.0000 6535.1406\n",
            "34. 149424.3594 161000.0000 11575.6406\n",
            "35. 445874.9688 398000.0000 47874.9688\n",
            "36. 320671.2500 373000.0000 52328.7500\n",
            "37. 140504.2188 143000.0000 2495.7812\n",
            "38. 162825.0625 163000.0000 174.9375\n",
            "39. 58056.2539 60000.0000 1943.7461\n",
            "40. 71911.4844 92000.0000 20088.5156\n",
            "41. 450334.9375 410000.0000 40334.9375\n",
            "42. 236517.5781 267000.0000 30482.4219\n",
            "43. 129035.9922 99000.0000 30035.9922\n",
            "44. 66711.1172 73500.0000 6788.8828\n",
            "45. 322927.5312 330000.0000 7072.4688\n",
            "46. 134954.0156 176000.0000 41045.9844\n",
            "47. 41294.6133 34000.0000 7294.6133\n",
            "48. 251326.3125 254000.0000 2673.6875\n",
            "49. 41492.9102 56000.0000 14507.0898\n",
            "50. 96979.8125 72000.0000 24979.8125\n"
          ]
        }
      ]
    }
  ]
}